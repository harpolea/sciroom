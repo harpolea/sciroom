{
 "cells": [
  {
   "cell_type": "markdown",
   "metadata": {},
   "source": [
    "## Questions:\n",
    "- how many unique question askers are there? Is it just the same people again and again? Does this create a bias? (e.g. there are an awful lot of questions on bees)\n",
    "- there are lots of funny questions - what percentage of total? Maybe this shows people prefer the less-serious questions? Or are just science room people particularly comedic?\n",
    "- look at percentage of questions on apocalypse, health, technology - seems people are particularly concered with mortality \n",
    "- very few engineering or chemistry questions?\n",
    "- most physics questions are space or sound\n",
    "- lots of food / nutrition questions \n",
    "- SO MUCH PSYCHOLOGY (is this a Jamal bias though?)\n"
   ]
  },
  {
   "cell_type": "code",
   "execution_count": 1,
   "metadata": {
    "collapsed": true
   },
   "outputs": [],
   "source": [
    "import numpy as np\n",
    "import matplotlib.pyplot as plt\n",
    "import pandas as pd"
   ]
  },
  {
   "cell_type": "code",
   "execution_count": 71,
   "metadata": {
    "collapsed": true
   },
   "outputs": [],
   "source": [
    "def dateparse(x):\n",
    "    if x == 'Pilot':\n",
    "        x = '14/06/2017'\n",
    "    return pd.datetime.strptime(x, '%d/%m/%Y')\n",
    "#dateparse = lambda x: pd.datetime.strptime(x, '%d/%m/%Y')\n",
    "\n",
    "funnyparse = lambda x: False if x == 'n' else True\n",
    "\n",
    "qs = pd.read_csv('sciroom_tagged.csv', skiprows=2, parse_dates=['When?'], date_parser=dateparse,\n",
    "                 converters={'Funny':funnyparse, 'human':funnyparse})"
   ]
  },
  {
   "cell_type": "code",
   "execution_count": 72,
   "metadata": {
    "collapsed": true
   },
   "outputs": [],
   "source": [
    "qs.rename(columns={'When?':'date', 'Will this be a potential talk, blog post, or nothing? ':'output_type', \n",
    "                   'Who?':'who', 'Other comments':'comments', 'Name': 'first_name', 'Questions':'questions'}, inplace=True)"
   ]
  },
  {
   "cell_type": "code",
   "execution_count": 73,
   "metadata": {
    "collapsed": true
   },
   "outputs": [],
   "source": [
    "#qs['last_name'] = None\n",
    "qs.insert(1, 'last_name', None)\n",
    "for i, r in qs.iterrows():\n",
    "    if r.last_name is None:\n",
    "        try:\n",
    "            names = r['first_name'].split(' ')\n",
    "            if len(names) > 1:\n",
    "                qs.set_value(i, 'first_name', names[0])\n",
    "                qs.set_value(i, 'last_name', ' '.join(names[1:]))\n",
    "        except AttributeError:\n",
    "            pass\n"
   ]
  },
  {
   "cell_type": "code",
   "execution_count": 104,
   "metadata": {},
   "outputs": [
    {
     "data": {
      "text/html": [
       "<div>\n",
       "<style>\n",
       "    .dataframe thead tr:only-child th {\n",
       "        text-align: right;\n",
       "    }\n",
       "\n",
       "    .dataframe thead th {\n",
       "        text-align: left;\n",
       "    }\n",
       "\n",
       "    .dataframe tbody tr th {\n",
       "        vertical-align: top;\n",
       "    }\n",
       "</style>\n",
       "<table border=\"1\" class=\"dataframe\">\n",
       "  <thead>\n",
       "    <tr style=\"text-align: right;\">\n",
       "      <th></th>\n",
       "      <th>first_name</th>\n",
       "      <th>date</th>\n",
       "      <th>questions</th>\n",
       "      <th>output_type</th>\n",
       "      <th>Funny</th>\n",
       "      <th>human</th>\n",
       "      <th>Tags</th>\n",
       "      <th>genre</th>\n",
       "    </tr>\n",
       "  </thead>\n",
       "  <tbody>\n",
       "    <tr>\n",
       "      <th>0</th>\n",
       "      <td>Przemek</td>\n",
       "      <td>2015-06-01</td>\n",
       "      <td>\"Could machines be conscious?\"</td>\n",
       "      <td>Event</td>\n",
       "      <td>False</td>\n",
       "      <td>False</td>\n",
       "      <td>technology, engineering, consciousness</td>\n",
       "      <td>psychology</td>\n",
       "    </tr>\n",
       "    <tr>\n",
       "      <th>1</th>\n",
       "      <td>Przemek</td>\n",
       "      <td>2015-06-01</td>\n",
       "      <td>\"Are we approaching to an ecological collapse?\"</td>\n",
       "      <td>Event</td>\n",
       "      <td>False</td>\n",
       "      <td>False</td>\n",
       "      <td>biology, apocalypse, ecology</td>\n",
       "      <td>biology</td>\n",
       "    </tr>\n",
       "    <tr>\n",
       "      <th>2</th>\n",
       "      <td>Philip</td>\n",
       "      <td>2015-06-01</td>\n",
       "      <td>\"Are we losing the war on disease?\"</td>\n",
       "      <td>Event</td>\n",
       "      <td>False</td>\n",
       "      <td>True</td>\n",
       "      <td>disease, apocalypse, medicine, biology</td>\n",
       "      <td>biology</td>\n",
       "    </tr>\n",
       "    <tr>\n",
       "      <th>3</th>\n",
       "      <td>Philip</td>\n",
       "      <td>2015-06-01</td>\n",
       "      <td>\"Is the nature of reality dependent on our obs...</td>\n",
       "      <td>Content: Read</td>\n",
       "      <td>False</td>\n",
       "      <td>True</td>\n",
       "      <td>psychology, philosophy, reality</td>\n",
       "      <td>biology</td>\n",
       "    </tr>\n",
       "    <tr>\n",
       "      <th>4</th>\n",
       "      <td>Tim</td>\n",
       "      <td>2015-06-01</td>\n",
       "      <td>\"What inventions would we not have without the...</td>\n",
       "      <td>Event / Content</td>\n",
       "      <td>False</td>\n",
       "      <td>True</td>\n",
       "      <td>engineering, space, technology</td>\n",
       "      <td>physics</td>\n",
       "    </tr>\n",
       "    <tr>\n",
       "      <th>5</th>\n",
       "      <td>Tim</td>\n",
       "      <td>2015-06-01</td>\n",
       "      <td>\"What inventions would we not have without war...</td>\n",
       "      <td>Event / Content</td>\n",
       "      <td>False</td>\n",
       "      <td>True</td>\n",
       "      <td>anthropology, history, technology, engineering</td>\n",
       "      <td>None</td>\n",
       "    </tr>\n",
       "    <tr>\n",
       "      <th>6</th>\n",
       "      <td>Tim</td>\n",
       "      <td>2015-06-01</td>\n",
       "      <td>\"How can science / technology make us happier?\"</td>\n",
       "      <td>Event / Podcast</td>\n",
       "      <td>False</td>\n",
       "      <td>True</td>\n",
       "      <td>technology, anthropology, neuroscience, psycho...</td>\n",
       "      <td>psychology</td>\n",
       "    </tr>\n",
       "    <tr>\n",
       "      <th>7</th>\n",
       "      <td>Andrei</td>\n",
       "      <td>2015-06-01</td>\n",
       "      <td>\"What would the world be like without or with ...</td>\n",
       "      <td>Event / Content</td>\n",
       "      <td>False</td>\n",
       "      <td>False</td>\n",
       "      <td>gravity, physics</td>\n",
       "      <td>physics</td>\n",
       "    </tr>\n",
       "    <tr>\n",
       "      <th>8</th>\n",
       "      <td>Abhi</td>\n",
       "      <td>2015-07-04</td>\n",
       "      <td>\"How do mirror neurons work?\"</td>\n",
       "      <td>Content</td>\n",
       "      <td>False</td>\n",
       "      <td>True</td>\n",
       "      <td>biology, neuroscience</td>\n",
       "      <td>biology</td>\n",
       "    </tr>\n",
       "    <tr>\n",
       "      <th>9</th>\n",
       "      <td>Reshma</td>\n",
       "      <td>2015-07-04</td>\n",
       "      <td>\"Can a machine identify cancer cell developing...</td>\n",
       "      <td>Event</td>\n",
       "      <td>False</td>\n",
       "      <td>True</td>\n",
       "      <td>cancer, technology, medicine, biology</td>\n",
       "      <td>biology</td>\n",
       "    </tr>\n",
       "  </tbody>\n",
       "</table>\n",
       "</div>"
      ],
      "text/plain": [
       "  first_name       date                                          questions  \\\n",
       "0    Przemek 2015-06-01                     \"Could machines be conscious?\"   \n",
       "1    Przemek 2015-06-01    \"Are we approaching to an ecological collapse?\"   \n",
       "2     Philip 2015-06-01                \"Are we losing the war on disease?\"   \n",
       "3     Philip 2015-06-01  \"Is the nature of reality dependent on our obs...   \n",
       "4        Tim 2015-06-01  \"What inventions would we not have without the...   \n",
       "5        Tim 2015-06-01  \"What inventions would we not have without war...   \n",
       "6        Tim 2015-06-01   \"How can science / technology make us happier?\"    \n",
       "7     Andrei 2015-06-01  \"What would the world be like without or with ...   \n",
       "8       Abhi 2015-07-04                      \"How do mirror neurons work?\"   \n",
       "9     Reshma 2015-07-04  \"Can a machine identify cancer cell developing...   \n",
       "\n",
       "       output_type  Funny  human  \\\n",
       "0            Event  False  False   \n",
       "1            Event  False  False   \n",
       "2            Event  False   True   \n",
       "3    Content: Read  False   True   \n",
       "4  Event / Content  False   True   \n",
       "5  Event / Content  False   True   \n",
       "6  Event / Podcast  False   True   \n",
       "7  Event / Content  False  False   \n",
       "8          Content  False   True   \n",
       "9            Event  False   True   \n",
       "\n",
       "                                                Tags       genre  \n",
       "0            technology, engineering, consciousness   psychology  \n",
       "1                       biology, apocalypse, ecology     biology  \n",
       "2             disease, apocalypse, medicine, biology     biology  \n",
       "3                   psychology, philosophy, reality      biology  \n",
       "4                    engineering, space, technology      physics  \n",
       "5    anthropology, history, technology, engineering         None  \n",
       "6  technology, anthropology, neuroscience, psycho...  psychology  \n",
       "7                                   gravity, physics     physics  \n",
       "8                              biology, neuroscience     biology  \n",
       "9             cancer, technology, medicine, biology      biology  "
      ]
     },
     "execution_count": 104,
     "metadata": {},
     "output_type": "execute_result"
    }
   ],
   "source": [
    "#qs[\"date\"] = qs[\"date\"].astype(\"datetime64\")\n",
    "#qs[['first_name', 'date', 'questions']].head(10)\n",
    "qs.drop(['last_name', 'comments', 'who'], axis=1).head(10)"
   ]
  },
  {
   "cell_type": "code",
   "execution_count": 75,
   "metadata": {},
   "outputs": [
    {
     "data": {
      "image/png": "[encoded data removed]",
      "text/plain": [
       "<matplotlib.figure.Figure at 0x7f00dd19d160>"
      ]
     },
     "metadata": {},
     "output_type": "display_data"
    }
   ],
   "source": [
    "fig = qs[['date']].groupby([qs[\"date\"].dt.year, qs[\"date\"].dt.month]).count().plot(kind=\"bar\", legend=False)\n",
    "fig.set_xlabel('Date')\n",
    "fig.set_ylabel('Number of questions')\n",
    "plt.show()"
   ]
  },
  {
   "cell_type": "code",
   "execution_count": 76,
   "metadata": {
    "collapsed": true
   },
   "outputs": [],
   "source": [
    "# Note: to avoid selection bias, I'm going to need to classify a reasonable fraction of questions. \n",
    "# Otherwise e.g. I could just be counting the physics questions.\n",
    "\n",
    "biology_words = [\"ecological\", \"disease\", \"nature\", \"plants\", \"animals\", \"animal\", \"biology\", \"biological\", \n",
    "                 \"neurons\", \"cancer\", \"cell\", \"diet\", \"evolution\", \"human\", \"life\", \"zombie\", \"DNA\",\n",
    "                \"species\", \"drunk\", \"nutrition\", \"virus\", \"drug\", \"exercise\", \"blood\", \"elephant\", \"bee\", \"cat\"]\n",
    "physics_words = [\"space\", \"black hole\", \"star\", \"universe\", \"quantum\", \"physics\", \"radiation\", \"light\", \"moon\",\n",
    "                \"mars\", \"wormhole\", \"turbulence\", \"time\", \"particles\", \"antimatter\", \"nuclear\", \"clock\",\n",
    "                \"wavefunction\", \"electricity\", \"power\", \"gravity\", \"planet\", \"dimension\", \"gravitation\", \"telescope\",\n",
    "                \"magnet\", \"vibrat\", \"big bang\"]\n",
    "chemistry_words = [\"chemicals\", \"chemical\", \"metal\", \"chemistry\", \"material\", \"mineral\", \"fracking\"]\n",
    "psychology_words = [\"psychology\", \"brain\", \"conscious\", \"mind\", \"memory\", \"memories\"]"
   ]
  },
  {
   "cell_type": "code",
   "execution_count": 77,
   "metadata": {
    "collapsed": true
   },
   "outputs": [],
   "source": [
    "qs['genre'] = None\n",
    "\n",
    "for i, r in qs.iterrows():\n",
    "    # first try looking at the comments \n",
    "    \n",
    "    try:\n",
    "        comments = r['comments'].lower()\n",
    "    except AttributeError:\n",
    "        comments = ''\n",
    "        \n",
    "    if \"biolog\" in comments:\n",
    "        qs.set_value(i, 'genre', 'biology')\n",
    "    elif \"physics\" in comments:\n",
    "            qs.set_value(i, 'genre', 'physics')\n",
    "    elif \"chemist\" in comments:\n",
    "        qs.set_value(i, 'genre', 'chemistry')\n",
    "    elif \"psycholog\" in comments:\n",
    "        qs.set_value(i, 'genre', 'psychology')    \n",
    "    else: \n",
    "        for w in biology_words:\n",
    "            if w in r['questions'].lower() + ' ' + comments:\n",
    "                qs.set_value(i, 'genre', 'biology')\n",
    "                break\n",
    "        for w in physics_words:\n",
    "            if w in r['questions'].lower() + ' ' + comments:\n",
    "                qs.set_value(i, 'genre', 'physics')\n",
    "                break\n",
    "        for w in chemistry_words:\n",
    "            if w in r['questions'].lower() + ' ' + comments:\n",
    "                qs.set_value(i, 'genre', 'chemistry')\n",
    "                break\n",
    "        for w in psychology_words:\n",
    "            if w in r['questions'].lower() + ' ' + comments:\n",
    "                qs.set_value(i, 'genre', 'psychology')\n",
    "                break"
   ]
  },
  {
   "cell_type": "markdown",
   "metadata": {},
   "source": [
    "## Looking at tags and human / funny"
   ]
  },
  {
   "cell_type": "code",
   "execution_count": 108,
   "metadata": {},
   "outputs": [
    {
     "name": "stdout",
     "output_type": "stream",
     "text": [
      "0.028527370855821126 0.28218966846569005 0.11873554356206631 0.07710100231303008\n"
     ]
    }
   ],
   "source": [
    "def tag_me(df):\n",
    "    apocalypse = 0\n",
    "    psychology = 0\n",
    "    health = 0\n",
    "    food = 0\n",
    "\n",
    "    tag = pd.DataFrame(columns=['freq', 'funny', 'human'])\n",
    "\n",
    "    for i, r in df.iterrows():\n",
    "        try:\n",
    "            if 'apocalypse' in r.Tags:\n",
    "                apocalypse += 1\n",
    "            if 'psychology' in r.Tags:\n",
    "                psychology += 1\n",
    "            if 'health' in r.Tags:\n",
    "                health += 1\n",
    "            if 'food' in r.Tags:\n",
    "                food += 1\n",
    "\n",
    "            ts = r.Tags.split(', ')\n",
    "            for w in ts:\n",
    "                if w[-1] == ' ':\n",
    "                    w = w[:-1]\n",
    "                try:\n",
    "                    tag.set_value(w, 'freq', tag.loc[w]['freq'] + 1)\n",
    "                except KeyError:\n",
    "                    tag.loc[w] = 0\n",
    "                    tag.set_value(w, 'freq', 1)\n",
    "                if r.Funny:\n",
    "                    tag.set_value(w, 'funny', tag.loc[w]['funny'] + 1)\n",
    "                if r.human:\n",
    "                    tag.set_value(w, 'human', tag.loc[w]['human'] + 1)\n",
    "        except TypeError:\n",
    "            pass\n",
    "\n",
    "    print(apocalypse/len(df), psychology/len(df), health/len(df), food/len(df))\n",
    "    tag.sort_values('freq', ascending=False, inplace=True)\n",
    "    for i, r in tag.iterrows():\n",
    "        tag.set_value(i, 'funny', r.funny / r.freq)\n",
    "        tag.set_value(i, 'human', r.human / r.freq)\n",
    "    return tag\n",
    "\n",
    "tags = tag_me(qs)"
   ]
  },
  {
   "cell_type": "code",
   "execution_count": 79,
   "metadata": {},
   "outputs": [
    {
     "data": {
      "text/plain": [
       "0.28218966846569005"
      ]
     },
     "execution_count": 79,
     "metadata": {},
     "output_type": "execute_result"
    }
   ],
   "source": [
    "psychology / len(qs)"
   ]
  },
  {
   "cell_type": "code",
   "execution_count": 80,
   "metadata": {},
   "outputs": [
    {
     "data": {
      "text/plain": [
       "0.2336160370084811"
      ]
     },
     "execution_count": 80,
     "metadata": {},
     "output_type": "execute_result"
    }
   ],
   "source": [
    "sum(qs.Funny) / len(qs)"
   ]
  },
  {
   "cell_type": "code",
   "execution_count": 81,
   "metadata": {},
   "outputs": [
    {
     "data": {
      "text/plain": [
       "0.76175790285273703"
      ]
     },
     "execution_count": 81,
     "metadata": {},
     "output_type": "execute_result"
    }
   ],
   "source": [
    "sum(qs.human) / len(qs)"
   ]
  },
  {
   "cell_type": "code",
   "execution_count": 109,
   "metadata": {},
   "outputs": [
    {
     "data": {
      "text/html": [
       "<div>\n",
       "<style>\n",
       "    .dataframe thead tr:only-child th {\n",
       "        text-align: right;\n",
       "    }\n",
       "\n",
       "    .dataframe thead th {\n",
       "        text-align: left;\n",
       "    }\n",
       "\n",
       "    .dataframe tbody tr th {\n",
       "        vertical-align: top;\n",
       "    }\n",
       "</style>\n",
       "<table border=\"1\" class=\"dataframe\">\n",
       "  <thead>\n",
       "    <tr style=\"text-align: right;\">\n",
       "      <th></th>\n",
       "      <th>freq</th>\n",
       "      <th>funny</th>\n",
       "      <th>human</th>\n",
       "    </tr>\n",
       "  </thead>\n",
       "  <tbody>\n",
       "    <tr>\n",
       "      <th>biology</th>\n",
       "      <td>447</td>\n",
       "      <td>0.270694</td>\n",
       "      <td>0.778523</td>\n",
       "    </tr>\n",
       "    <tr>\n",
       "      <th>psychology</th>\n",
       "      <td>366</td>\n",
       "      <td>0.155738</td>\n",
       "      <td>0.937158</td>\n",
       "    </tr>\n",
       "    <tr>\n",
       "      <th>physics</th>\n",
       "      <td>239</td>\n",
       "      <td>0.284519</td>\n",
       "      <td>0.401674</td>\n",
       "    </tr>\n",
       "    <tr>\n",
       "      <th>technology</th>\n",
       "      <td>197</td>\n",
       "      <td>0.228426</td>\n",
       "      <td>0.913706</td>\n",
       "    </tr>\n",
       "    <tr>\n",
       "      <th>health</th>\n",
       "      <td>154</td>\n",
       "      <td>0.0909091</td>\n",
       "      <td>0.993506</td>\n",
       "    </tr>\n",
       "    <tr>\n",
       "      <th>ecology</th>\n",
       "      <td>104</td>\n",
       "      <td>0.432692</td>\n",
       "      <td>0.346154</td>\n",
       "    </tr>\n",
       "    <tr>\n",
       "      <th>food</th>\n",
       "      <td>100</td>\n",
       "      <td>0.29</td>\n",
       "      <td>0.9</td>\n",
       "    </tr>\n",
       "    <tr>\n",
       "      <th>space</th>\n",
       "      <td>91</td>\n",
       "      <td>0.175824</td>\n",
       "      <td>0.428571</td>\n",
       "    </tr>\n",
       "    <tr>\n",
       "      <th>neuroscience</th>\n",
       "      <td>84</td>\n",
       "      <td>0.0952381</td>\n",
       "      <td>0.988095</td>\n",
       "    </tr>\n",
       "    <tr>\n",
       "      <th>philosophy</th>\n",
       "      <td>83</td>\n",
       "      <td>0.39759</td>\n",
       "      <td>0.843373</td>\n",
       "    </tr>\n",
       "  </tbody>\n",
       "</table>\n",
       "</div>"
      ],
      "text/plain": [
       "             freq      funny     human\n",
       "biology       447   0.270694  0.778523\n",
       "psychology    366   0.155738  0.937158\n",
       "physics       239   0.284519  0.401674\n",
       "technology    197   0.228426  0.913706\n",
       "health        154  0.0909091  0.993506\n",
       "ecology       104   0.432692  0.346154\n",
       "food          100       0.29       0.9\n",
       "space          91   0.175824  0.428571\n",
       "neuroscience   84  0.0952381  0.988095\n",
       "philosophy     83    0.39759  0.843373"
      ]
     },
     "execution_count": 109,
     "metadata": {},
     "output_type": "execute_result"
    }
   ],
   "source": [
    "tags.head(10)"
   ]
  },
  {
   "cell_type": "code",
   "execution_count": 14,
   "metadata": {},
   "outputs": [
    {
     "data": {
      "text/html": [
       "<script>requirejs.config({paths: { 'plotly': ['https://cdn.plot.ly/plotly-latest.min']},});if(!window.Plotly) {{require(['plotly'],function(plotly) {window.Plotly=plotly;});}}</script>"
      ],
      "text/vnd.plotly.v1+html": [
       "<script>requirejs.config({paths: { 'plotly': ['https://cdn.plot.ly/plotly-latest.min']},});if(!window.Plotly) {{require(['plotly'],function(plotly) {window.Plotly=plotly;});}}</script>"
      ]
     },
     "metadata": {},
     "output_type": "display_data"
    }
   ],
   "source": [
    "import plotly\n",
    "plotly.offline.init_notebook_mode(connected=True)\n",
    "import plotly.plotly as py\n",
    "import plotly.graph_objs as go\n",
    "import plotly.tools as tls"
   ]
  },
  {
   "cell_type": "code",
   "execution_count": 15,
   "metadata": {},
   "outputs": [
    {
     "name": "stdout",
     "output_type": "stream",
     "text": [
      "This is the format of your plot grid:\n",
      "[ (1,1) x1,y1 ]\n",
      "\n"
     ]
    },
    {
     "data": {
      "application/vnd.plotly.v1+json": {
       "data": [
        {
         "marker": {
          "color": [
           63.42712353559792,
           57.39337940912698,
           46.37887450122092,
           42.1070065428546,
           37.22902093797257,
           30.594117081556707,
           30,
           28.618176042508367,
           27.49545416973504,
           27.331300737432898,
           26.153393661244046,
           25.099800796022265,
           24.919871588754226,
           23.622023622035435,
           20.56696380120313,
           20.12461179749811,
           19.8997487421324,
           19.672315572906,
           19.44222209522358,
           18.973665961010276,
           18.24828759089466,
           17.233687939614086,
           15.874507866387544,
           15.588457268119896,
           15.588457268119896,
           15,
           15,
           14.387494569938157,
           14.071247279470288,
           13.74772708486752,
           13.74772708486752,
           13.74772708486752,
           13.416407864998739,
           13.416407864998739,
           13.076696830622023,
           12.727922061357855,
           12.36931687685298,
           12,
           11.618950038622252,
           10.392304845413264,
           10.392304845413264,
           10.392304845413264,
           9.9498743710662,
           9.9498743710662,
           9.9498743710662,
           9,
           8.485281374238571,
           7.937253933193772,
           7.937253933193772,
           7.348469228349534,
           7.348469228349534,
           6.708203932499369,
           6,
           4.242640687119286,
           4.242640687119286,
           3
          ],
          "colorscale": "Viridis",
          "size": [
           63.42712353559792,
           57.39337940912698,
           46.37887450122092,
           42.1070065428546,
           37.22902093797257,
           30.594117081556707,
           30,
           28.618176042508367,
           27.49545416973504,
           27.331300737432898,
           26.153393661244046,
           25.099800796022265,
           24.919871588754226,
           23.622023622035435,
           20.56696380120313,
           20.12461179749811,
           19.8997487421324,
           19.672315572906,
           19.44222209522358,
           18.973665961010276,
           18.24828759089466,
           17.233687939614086,
           15.874507866387544,
           15.588457268119896,
           15.588457268119896,
           15,
           15,
           14.387494569938157,
           14.071247279470288,
           13.74772708486752,
           13.74772708486752,
           13.74772708486752,
           13.416407864998739,
           13.416407864998739,
           13.076696830622023,
           12.727922061357855,
           12.36931687685298,
           12,
           11.618950038622252,
           10.392304845413264,
           10.392304845413264,
           10.392304845413264,
           9.9498743710662,
           9.9498743710662,
           9.9498743710662,
           9,
           8.485281374238571,
           7.937253933193772,
           7.937253933193772,
           7.348469228349534,
           7.348469228349534,
           6.708203932499369,
           6,
           4.242640687119286,
           4.242640687119286,
           3
          ]
         },
         "mode": "markers",
         "text": [
          "biology: 447",
          "psychology: 366",
          "physics: 239",
          "technology: 197",
          "health: 154",
          "ecology: 104",
          "food: 100",
          "space: 91",
          "neuroscience: 84",
          "philosophy: 83",
          "evolution: 76",
          "engineering: 70",
          "medicine: 69",
          "climate change: 62",
          "gravity: 47",
          "ethics: 45",
          "anatomy: 44",
          "nutrition: 43",
          "chemistry: 42",
          "universe: 40",
          "apocalypse: 37",
          "materials: 33",
          "maths: 28",
          "science: 27",
          "disease: 27",
          "cosmology: 25",
          "consciousness: 25",
          "politics: 23",
          "particles: 22",
          "history: 21",
          "quantum: 21",
          "geology: 21",
          "computer science: 20",
          "religion: 20",
          "AI: 19",
          "music: 18",
          "sociology: 17",
          "black holes: 16",
          "economics: 15",
          "reality: 12",
          "time travel: 12",
          "time: 12",
          "zombies: 11",
          "statistics: 11",
          "robots: 11",
          "cancer: 9",
          "meteorology: 8",
          "fossils: 7",
          "radiation: 7",
          "dinosaurs: 6",
          "sound: 6",
          "fluids: 5",
          "anthropology: 4",
          "simulations: 2",
          "biochemistry: 2",
          "na: 1"
         ],
         "type": "scatter",
         "x": [
          0.7785234899328859,
          0.9371584699453552,
          0.401673640167364,
          0.9137055837563451,
          0.9935064935064936,
          0.34615384615384615,
          0.9,
          0.42857142857142855,
          0.9880952380952381,
          0.8433734939759037,
          0.6842105263157895,
          0.7571428571428571,
          0.9710144927536232,
          0.8870967741935484,
          0.425531914893617,
          1,
          0.9772727272727273,
          0.9767441860465116,
          0.5952380952380952,
          0.225,
          0.7297297297297297,
          0.5454545454545454,
          0.4642857142857143,
          0.9629629629629629,
          0.8888888888888888,
          0.12,
          0.88,
          1,
          0.22727272727272727,
          0.8571428571428571,
          0.19047619047619047,
          0.2857142857142857,
          0.9,
          1,
          1,
          0.8888888888888888,
          1,
          0.375,
          1,
          0.8333333333333334,
          0.9166666666666666,
          0.4166666666666667,
          1,
          0.7272727272727273,
          1,
          1,
          0,
          0.14285714285714285,
          0.42857142857142855,
          0.3333333333333333,
          0.5,
          0.2,
          1,
          0.5,
          0.5,
          1
         ],
         "xaxis": "x1",
         "y": [
          0.27069351230425054,
          0.1557377049180328,
          0.28451882845188287,
          0.22842639593908629,
          0.09090909090909091,
          0.4326923076923077,
          0.29,
          0.17582417582417584,
          0.09523809523809523,
          0.39759036144578314,
          0.15789473684210525,
          0.2714285714285714,
          0.11594202898550725,
          0.03225806451612903,
          0.1702127659574468,
          0.08888888888888889,
          0.38636363636363635,
          0.13953488372093023,
          0.2619047619047619,
          0.175,
          0.32432432432432434,
          0.30303030303030304,
          0.32142857142857145,
          0.18518518518518517,
          0.14814814814814814,
          0.12,
          0,
          0.08695652173913043,
          0.22727272727272727,
          0.23809523809523808,
          0.14285714285714285,
          0.19047619047619047,
          0.2,
          0.05,
          0.10526315789473684,
          0.2222222222222222,
          0.23529411764705882,
          0.125,
          0.13333333333333333,
          0.16666666666666666,
          0.25,
          0.4166666666666667,
          1,
          0.5454545454545454,
          0.09090909090909091,
          0,
          0,
          0,
          0,
          0.5,
          0.5,
          0.4,
          0,
          0,
          0,
          0
         ],
         "yaxis": "y1"
        }
       ],
       "layout": {
        "hovermode": "closest",
        "xaxis1": {
         "anchor": "y1",
         "domain": [
          0,
          1
         ],
         "title": "Human"
        },
        "yaxis1": {
         "anchor": "x1",
         "domain": [
          0,
          1
         ],
         "title": "Funny"
        }
       }
      },
      "text/html": [
       "<div id=\"76cbbfc6-5bda-4d2e-8a88-ae445ee34baa\" style=\"height: 525px; width: 100%;\" class=\"plotly-graph-div\"></div><script type=\"text/javascript\">require([\"plotly\"], function(Plotly) { window.PLOTLYENV=window.PLOTLYENV || {};window.PLOTLYENV.BASE_URL=\"https://plot.ly\";Plotly.newPlot(\"76cbbfc6-5bda-4d2e-8a88-ae445ee34baa\", [{\"type\": \"scatter\", \"x\": [0.7785234899328859, 0.9371584699453552, 0.401673640167364, 0.9137055837563451, 0.9935064935064936, 0.34615384615384615, 0.9, 0.42857142857142855, 0.9880952380952381, 0.8433734939759037, 0.6842105263157895, 0.7571428571428571, 0.9710144927536232, 0.8870967741935484, 0.425531914893617, 1.0, 0.9772727272727273, 0.9767441860465116, 0.5952380952380952, 0.225, 0.7297297297297297, 0.5454545454545454, 0.4642857142857143, 0.9629629629629629, 0.8888888888888888, 0.12, 0.88, 1.0, 0.22727272727272727, 0.8571428571428571, 0.19047619047619047, 0.2857142857142857, 0.9, 1.0, 1.0, 0.8888888888888888, 1.0, 0.375, 1.0, 0.8333333333333334, 0.9166666666666666, 0.4166666666666667, 1.0, 0.7272727272727273, 1.0, 1.0, 0.0, 0.14285714285714285, 0.42857142857142855, 0.3333333333333333, 0.5, 0.2, 1.0, 0.5, 0.5, 1.0], \"y\": [0.27069351230425054, 0.1557377049180328, 0.28451882845188287, 0.22842639593908629, 0.09090909090909091, 0.4326923076923077, 0.29, 0.17582417582417584, 0.09523809523809523, 0.39759036144578314, 0.15789473684210525, 0.2714285714285714, 0.11594202898550725, 0.03225806451612903, 0.1702127659574468, 0.08888888888888889, 0.38636363636363635, 0.13953488372093023, 0.2619047619047619, 0.175, 0.32432432432432434, 0.30303030303030304, 0.32142857142857145, 0.18518518518518517, 0.14814814814814814, 0.12, 0.0, 0.08695652173913043, 0.22727272727272727, 0.23809523809523808, 0.14285714285714285, 0.19047619047619047, 0.2, 0.05, 0.10526315789473684, 0.2222222222222222, 0.23529411764705882, 0.125, 0.13333333333333333, 0.16666666666666666, 0.25, 0.4166666666666667, 1.0, 0.5454545454545454, 0.09090909090909091, 0.0, 0.0, 0.0, 0.0, 0.5, 0.5, 0.4, 0.0, 0.0, 0.0, 0.0], \"mode\": \"markers\", \"text\": [\"biology: 447\", \"psychology: 366\", \"physics: 239\", \"technology: 197\", \"health: 154\", \"ecology: 104\", \"food: 100\", \"space: 91\", \"neuroscience: 84\", \"philosophy: 83\", \"evolution: 76\", \"engineering: 70\", \"medicine: 69\", \"climate change: 62\", \"gravity: 47\", \"ethics: 45\", \"anatomy: 44\", \"nutrition: 43\", \"chemistry: 42\", \"universe: 40\", \"apocalypse: 37\", \"materials: 33\", \"maths: 28\", \"science: 27\", \"disease: 27\", \"cosmology: 25\", \"consciousness: 25\", \"politics: 23\", \"particles: 22\", \"history: 21\", \"quantum: 21\", \"geology: 21\", \"computer science: 20\", \"religion: 20\", \"AI: 19\", \"music: 18\", \"sociology: 17\", \"black holes: 16\", \"economics: 15\", \"reality: 12\", \"time travel: 12\", \"time: 12\", \"zombies: 11\", \"statistics: 11\", \"robots: 11\", \"cancer: 9\", \"meteorology: 8\", \"fossils: 7\", \"radiation: 7\", \"dinosaurs: 6\", \"sound: 6\", \"fluids: 5\", \"anthropology: 4\", \"simulations: 2\", \"biochemistry: 2\", \"na: 1\"], \"marker\": {\"size\": [63.42712353559792, 57.39337940912698, 46.37887450122092, 42.1070065428546, 37.22902093797257, 30.594117081556707, 30.0, 28.618176042508367, 27.49545416973504, 27.331300737432898, 26.153393661244046, 25.099800796022265, 24.919871588754226, 23.622023622035435, 20.56696380120313, 20.12461179749811, 19.8997487421324, 19.672315572906, 19.44222209522358, 18.973665961010276, 18.24828759089466, 17.233687939614086, 15.874507866387544, 15.588457268119896, 15.588457268119896, 15.0, 15.0, 14.387494569938157, 14.071247279470288, 13.74772708486752, 13.74772708486752, 13.74772708486752, 13.416407864998739, 13.416407864998739, 13.076696830622023, 12.727922061357855, 12.36931687685298, 12.0, 11.618950038622252, 10.392304845413264, 10.392304845413264, 10.392304845413264, 9.9498743710662, 9.9498743710662, 9.9498743710662, 9.0, 8.485281374238571, 7.937253933193772, 7.937253933193772, 7.348469228349534, 7.348469228349534, 6.708203932499369, 6.0, 4.242640687119286, 4.242640687119286, 3.0], \"color\": [63.42712353559792, 57.39337940912698, 46.37887450122092, 42.1070065428546, 37.22902093797257, 30.594117081556707, 30.0, 28.618176042508367, 27.49545416973504, 27.331300737432898, 26.153393661244046, 25.099800796022265, 24.919871588754226, 23.622023622035435, 20.56696380120313, 20.12461179749811, 19.8997487421324, 19.672315572906, 19.44222209522358, 18.973665961010276, 18.24828759089466, 17.233687939614086, 15.874507866387544, 15.588457268119896, 15.588457268119896, 15.0, 15.0, 14.387494569938157, 14.071247279470288, 13.74772708486752, 13.74772708486752, 13.74772708486752, 13.416407864998739, 13.416407864998739, 13.076696830622023, 12.727922061357855, 12.36931687685298, 12.0, 11.618950038622252, 10.392304845413264, 10.392304845413264, 10.392304845413264, 9.9498743710662, 9.9498743710662, 9.9498743710662, 9.0, 8.485281374238571, 7.937253933193772, 7.937253933193772, 7.348469228349534, 7.348469228349534, 6.708203932499369, 6.0, 4.242640687119286, 4.242640687119286, 3.0], \"colorscale\": \"Viridis\"}, \"xaxis\": \"x1\", \"yaxis\": \"y1\"}], {\"xaxis1\": {\"domain\": [0.0, 1.0], \"anchor\": \"y1\", \"title\": \"Human\"}, \"yaxis1\": {\"domain\": [0.0, 1.0], \"anchor\": \"x1\", \"title\": \"Funny\"}, \"hovermode\": \"closest\"}, {\"showLink\": true, \"linkText\": \"Export to plot.ly\"})});</script>"
      ],
      "text/vnd.plotly.v1+html": [
       "<div id=\"76cbbfc6-5bda-4d2e-8a88-ae445ee34baa\" style=\"height: 525px; width: 100%;\" class=\"plotly-graph-div\"></div><script type=\"text/javascript\">require([\"plotly\"], function(Plotly) { window.PLOTLYENV=window.PLOTLYENV || {};window.PLOTLYENV.BASE_URL=\"https://plot.ly\";Plotly.newPlot(\"76cbbfc6-5bda-4d2e-8a88-ae445ee34baa\", [{\"type\": \"scatter\", \"x\": [0.7785234899328859, 0.9371584699453552, 0.401673640167364, 0.9137055837563451, 0.9935064935064936, 0.34615384615384615, 0.9, 0.42857142857142855, 0.9880952380952381, 0.8433734939759037, 0.6842105263157895, 0.7571428571428571, 0.9710144927536232, 0.8870967741935484, 0.425531914893617, 1.0, 0.9772727272727273, 0.9767441860465116, 0.5952380952380952, 0.225, 0.7297297297297297, 0.5454545454545454, 0.4642857142857143, 0.9629629629629629, 0.8888888888888888, 0.12, 0.88, 1.0, 0.22727272727272727, 0.8571428571428571, 0.19047619047619047, 0.2857142857142857, 0.9, 1.0, 1.0, 0.8888888888888888, 1.0, 0.375, 1.0, 0.8333333333333334, 0.9166666666666666, 0.4166666666666667, 1.0, 0.7272727272727273, 1.0, 1.0, 0.0, 0.14285714285714285, 0.42857142857142855, 0.3333333333333333, 0.5, 0.2, 1.0, 0.5, 0.5, 1.0], \"y\": [0.27069351230425054, 0.1557377049180328, 0.28451882845188287, 0.22842639593908629, 0.09090909090909091, 0.4326923076923077, 0.29, 0.17582417582417584, 0.09523809523809523, 0.39759036144578314, 0.15789473684210525, 0.2714285714285714, 0.11594202898550725, 0.03225806451612903, 0.1702127659574468, 0.08888888888888889, 0.38636363636363635, 0.13953488372093023, 0.2619047619047619, 0.175, 0.32432432432432434, 0.30303030303030304, 0.32142857142857145, 0.18518518518518517, 0.14814814814814814, 0.12, 0.0, 0.08695652173913043, 0.22727272727272727, 0.23809523809523808, 0.14285714285714285, 0.19047619047619047, 0.2, 0.05, 0.10526315789473684, 0.2222222222222222, 0.23529411764705882, 0.125, 0.13333333333333333, 0.16666666666666666, 0.25, 0.4166666666666667, 1.0, 0.5454545454545454, 0.09090909090909091, 0.0, 0.0, 0.0, 0.0, 0.5, 0.5, 0.4, 0.0, 0.0, 0.0, 0.0], \"mode\": \"markers\", \"text\": [\"biology: 447\", \"psychology: 366\", \"physics: 239\", \"technology: 197\", \"health: 154\", \"ecology: 104\", \"food: 100\", \"space: 91\", \"neuroscience: 84\", \"philosophy: 83\", \"evolution: 76\", \"engineering: 70\", \"medicine: 69\", \"climate change: 62\", \"gravity: 47\", \"ethics: 45\", \"anatomy: 44\", \"nutrition: 43\", \"chemistry: 42\", \"universe: 40\", \"apocalypse: 37\", \"materials: 33\", \"maths: 28\", \"science: 27\", \"disease: 27\", \"cosmology: 25\", \"consciousness: 25\", \"politics: 23\", \"particles: 22\", \"history: 21\", \"quantum: 21\", \"geology: 21\", \"computer science: 20\", \"religion: 20\", \"AI: 19\", \"music: 18\", \"sociology: 17\", \"black holes: 16\", \"economics: 15\", \"reality: 12\", \"time travel: 12\", \"time: 12\", \"zombies: 11\", \"statistics: 11\", \"robots: 11\", \"cancer: 9\", \"meteorology: 8\", \"fossils: 7\", \"radiation: 7\", \"dinosaurs: 6\", \"sound: 6\", \"fluids: 5\", \"anthropology: 4\", \"simulations: 2\", \"biochemistry: 2\", \"na: 1\"], \"marker\": {\"size\": [63.42712353559792, 57.39337940912698, 46.37887450122092, 42.1070065428546, 37.22902093797257, 30.594117081556707, 30.0, 28.618176042508367, 27.49545416973504, 27.331300737432898, 26.153393661244046, 25.099800796022265, 24.919871588754226, 23.622023622035435, 20.56696380120313, 20.12461179749811, 19.8997487421324, 19.672315572906, 19.44222209522358, 18.973665961010276, 18.24828759089466, 17.233687939614086, 15.874507866387544, 15.588457268119896, 15.588457268119896, 15.0, 15.0, 14.387494569938157, 14.071247279470288, 13.74772708486752, 13.74772708486752, 13.74772708486752, 13.416407864998739, 13.416407864998739, 13.076696830622023, 12.727922061357855, 12.36931687685298, 12.0, 11.618950038622252, 10.392304845413264, 10.392304845413264, 10.392304845413264, 9.9498743710662, 9.9498743710662, 9.9498743710662, 9.0, 8.485281374238571, 7.937253933193772, 7.937253933193772, 7.348469228349534, 7.348469228349534, 6.708203932499369, 6.0, 4.242640687119286, 4.242640687119286, 3.0], \"color\": [63.42712353559792, 57.39337940912698, 46.37887450122092, 42.1070065428546, 37.22902093797257, 30.594117081556707, 30.0, 28.618176042508367, 27.49545416973504, 27.331300737432898, 26.153393661244046, 25.099800796022265, 24.919871588754226, 23.622023622035435, 20.56696380120313, 20.12461179749811, 19.8997487421324, 19.672315572906, 19.44222209522358, 18.973665961010276, 18.24828759089466, 17.233687939614086, 15.874507866387544, 15.588457268119896, 15.588457268119896, 15.0, 15.0, 14.387494569938157, 14.071247279470288, 13.74772708486752, 13.74772708486752, 13.74772708486752, 13.416407864998739, 13.416407864998739, 13.076696830622023, 12.727922061357855, 12.36931687685298, 12.0, 11.618950038622252, 10.392304845413264, 10.392304845413264, 10.392304845413264, 9.9498743710662, 9.9498743710662, 9.9498743710662, 9.0, 8.485281374238571, 7.937253933193772, 7.937253933193772, 7.348469228349534, 7.348469228349534, 6.708203932499369, 6.0, 4.242640687119286, 4.242640687119286, 3.0], \"colorscale\": \"Viridis\"}, \"xaxis\": \"x1\", \"yaxis\": \"y1\"}], {\"xaxis1\": {\"domain\": [0.0, 1.0], \"anchor\": \"y1\", \"title\": \"Human\"}, \"yaxis1\": {\"domain\": [0.0, 1.0], \"anchor\": \"x1\", \"title\": \"Funny\"}, \"hovermode\": \"closest\"}, {\"showLink\": true, \"linkText\": \"Export to plot.ly\"})});</script>"
      ]
     },
     "metadata": {},
     "output_type": "display_data"
    }
   ],
   "source": [
    "msize = lambda x: np.sqrt(np.float(x))\n",
    "\n",
    "fig = tls.make_subplots(rows=1, cols=1)\n",
    "x = tags.human\n",
    "y = tags.funny\n",
    "text = [i + ': ' + str(tags.loc[i]['freq']) for i in tags.index.values]\n",
    "t = go.Scatter(x=x, y=y, mode='markers', text=text, \n",
    "               marker=dict(size=[3*x**0.5 for x in tags.freq], \n",
    "                          color=[3*x**0.5 for x in tags.freq],\n",
    "                          colorscale='Viridis'))\n",
    "fig.append_trace(t, 1, 1)\n",
    "\n",
    "fig['layout']['xaxis1'].update(title='Human')\n",
    "fig['layout']['yaxis1'].update(title='Funny')\n",
    "fig['layout'].update(hovermode='closest')\n",
    "plotly.offline.iplot(fig)"
   ]
  },
  {
   "cell_type": "markdown",
   "metadata": {},
   "source": [
    "## Finding common question words"
   ]
  },
  {
   "cell_type": "code",
   "execution_count": 16,
   "metadata": {
    "collapsed": true
   },
   "outputs": [],
   "source": [
    "qword = dict()\n",
    "for i, r in qs.iterrows():\n",
    "    w = r.questions.split(' ')[0][1:].split(\"'\")[0].split(\",\")[0].lower()\n",
    "    qword.setdefault(w, 0)\n",
    "    qword[w] += 1"
   ]
  },
  {
   "cell_type": "code",
   "execution_count": 17,
   "metadata": {},
   "outputs": [
    {
     "name": "stdout",
     "output_type": "stream",
     "text": [
      "how 236\n",
      "what 224\n",
      "why 198\n",
      "is 134\n",
      "are 63\n",
      "can 58\n",
      "does 52\n",
      "do 50\n",
      "could 43\n",
      "if 30\n",
      "will 28\n",
      "when 27\n",
      "where 18\n",
      "should 15\n",
      "would 13\n",
      "which 10\n",
      "to 10\n",
      "in 5\n",
      "who 5\n",
      "has 4\n",
      "at 4\n",
      "did 3\n",
      "the 3\n"
     ]
    }
   ],
   "source": [
    "for k in sorted(qword, key=qword.get, reverse=True):\n",
    "    if qword[k] < 3:\n",
    "        break\n",
    "    print(k, qword[k])"
   ]
  },
  {
   "cell_type": "markdown",
   "metadata": {
    "collapsed": true
   },
   "source": [
    "## Finding unique questioners "
   ]
  },
  {
   "cell_type": "code",
   "execution_count": 102,
   "metadata": {},
   "outputs": [
    {
     "data": {
      "text/html": [
       "<div>\n",
       "<style>\n",
       "    .dataframe thead tr:only-child th {\n",
       "        text-align: right;\n",
       "    }\n",
       "\n",
       "    .dataframe thead th {\n",
       "        text-align: left;\n",
       "    }\n",
       "\n",
       "    .dataframe tbody tr th {\n",
       "        vertical-align: top;\n",
       "    }\n",
       "</style>\n",
       "<table border=\"1\" class=\"dataframe\">\n",
       "  <thead>\n",
       "    <tr style=\"text-align: right;\">\n",
       "      <th></th>\n",
       "      <th>first_name</th>\n",
       "    </tr>\n",
       "  </thead>\n",
       "  <tbody>\n",
       "    <tr>\n",
       "      <th>0</th>\n",
       "      <td>Przemek</td>\n",
       "    </tr>\n",
       "    <tr>\n",
       "      <th>2</th>\n",
       "      <td>Philip</td>\n",
       "    </tr>\n",
       "    <tr>\n",
       "      <th>4</th>\n",
       "      <td>Tim</td>\n",
       "    </tr>\n",
       "    <tr>\n",
       "      <th>7</th>\n",
       "      <td>Andrei</td>\n",
       "    </tr>\n",
       "    <tr>\n",
       "      <th>8</th>\n",
       "      <td>Abhi</td>\n",
       "    </tr>\n",
       "  </tbody>\n",
       "</table>\n",
       "</div>"
      ],
      "text/plain": [
       "  first_name\n",
       "0    Przemek\n",
       "2     Philip\n",
       "4        Tim\n",
       "7     Andrei\n",
       "8       Abhi"
      ]
     },
     "execution_count": 102,
     "metadata": {},
     "output_type": "execute_result"
    }
   ],
   "source": [
    "questers = qs[['first_name', 'last_name']].drop_duplicates()\n",
    "questers.drop('last_name', axis=1).head()"
   ]
  },
  {
   "cell_type": "code",
   "execution_count": 33,
   "metadata": {},
   "outputs": [
    {
     "data": {
      "text/plain": [
       "3.3864229765013056"
      ]
     },
     "execution_count": 33,
     "metadata": {},
     "output_type": "execute_result"
    }
   ],
   "source": [
    "len(qs) / len(questers)"
   ]
  },
  {
   "cell_type": "markdown",
   "metadata": {},
   "source": [
    "This demonstrates we indeed have quite a few repeat questioners. Let's look at the most curious:"
   ]
  },
  {
   "cell_type": "code",
   "execution_count": 35,
   "metadata": {},
   "outputs": [],
   "source": [
    "questers['freq'] = 0\n",
    "for i, r in questers.iterrows():\n",
    "    questers.set_value(i, 'freq', len(qs.loc[(qs.first_name == r.first_name) & (qs.last_name == r.last_name)]))"
   ]
  },
  {
   "cell_type": "code",
   "execution_count": 101,
   "metadata": {},
   "outputs": [
    {
     "data": {
      "text/html": [
       "<div>\n",
       "<style>\n",
       "    .dataframe thead tr:only-child th {\n",
       "        text-align: right;\n",
       "    }\n",
       "\n",
       "    .dataframe thead th {\n",
       "        text-align: left;\n",
       "    }\n",
       "\n",
       "    .dataframe tbody tr th {\n",
       "        vertical-align: top;\n",
       "    }\n",
       "</style>\n",
       "<table border=\"1\" class=\"dataframe\">\n",
       "  <thead>\n",
       "    <tr style=\"text-align: right;\">\n",
       "      <th></th>\n",
       "      <th>first_name</th>\n",
       "      <th>freq</th>\n",
       "    </tr>\n",
       "  </thead>\n",
       "  <tbody>\n",
       "    <tr>\n",
       "      <th>133</th>\n",
       "      <td>Jamal</td>\n",
       "      <td>84</td>\n",
       "    </tr>\n",
       "    <tr>\n",
       "      <th>502</th>\n",
       "      <td>Matt</td>\n",
       "      <td>46</td>\n",
       "    </tr>\n",
       "    <tr>\n",
       "      <th>520</th>\n",
       "      <td>Sean</td>\n",
       "      <td>36</td>\n",
       "    </tr>\n",
       "    <tr>\n",
       "      <th>125</th>\n",
       "      <td>Olly</td>\n",
       "      <td>33</td>\n",
       "    </tr>\n",
       "    <tr>\n",
       "      <th>142</th>\n",
       "      <td>John</td>\n",
       "      <td>25</td>\n",
       "    </tr>\n",
       "    <tr>\n",
       "      <th>2</th>\n",
       "      <td>Philip</td>\n",
       "      <td>25</td>\n",
       "    </tr>\n",
       "    <tr>\n",
       "      <th>69</th>\n",
       "      <td>Tom</td>\n",
       "      <td>23</td>\n",
       "    </tr>\n",
       "    <tr>\n",
       "      <th>371</th>\n",
       "      <td>Matt</td>\n",
       "      <td>21</td>\n",
       "    </tr>\n",
       "    <tr>\n",
       "      <th>4</th>\n",
       "      <td>Tim</td>\n",
       "      <td>20</td>\n",
       "    </tr>\n",
       "    <tr>\n",
       "      <th>53</th>\n",
       "      <td>Simon</td>\n",
       "      <td>17</td>\n",
       "    </tr>\n",
       "  </tbody>\n",
       "</table>\n",
       "</div>"
      ],
      "text/plain": [
       "    first_name  freq\n",
       "133      Jamal    84\n",
       "502       Matt    46\n",
       "520       Sean    36\n",
       "125       Olly    33\n",
       "142       John    25\n",
       "2       Philip    25\n",
       "69         Tom    23\n",
       "371       Matt    21\n",
       "4          Tim    20\n",
       "53       Simon    17"
      ]
     },
     "execution_count": 101,
     "metadata": {},
     "output_type": "execute_result"
    }
   ],
   "source": [
    "questers.sort_values('freq', ascending=False, inplace=True)\n",
    "questers.drop('last_name', 'comments', 'who', axis=1).head(10)"
   ]
  },
  {
   "cell_type": "code",
   "execution_count": 41,
   "metadata": {},
   "outputs": [
    {
     "data": {
      "text/plain": [
       "count    383.000000\n",
       "mean       2.694517\n",
       "std        6.487454\n",
       "min        0.000000\n",
       "25%        0.000000\n",
       "50%        1.000000\n",
       "75%        2.000000\n",
       "max       84.000000\n",
       "Name: freq, dtype: float64"
      ]
     },
     "execution_count": 41,
     "metadata": {},
     "output_type": "execute_result"
    }
   ],
   "source": [
    "questers['freq'].describe()"
   ]
  },
  {
   "cell_type": "code",
   "execution_count": 44,
   "metadata": {},
   "outputs": [
    {
     "data": {
      "image/png": "[encoded data removed]",
      "text/plain": [
       "<matplotlib.figure.Figure at 0x7f00e24ca5c0>"
      ]
     },
     "metadata": {},
     "output_type": "display_data"
    }
   ],
   "source": [
    "questers.boxplot('freq', vert=False)\n",
    "plt.show()"
   ]
  },
  {
   "cell_type": "markdown",
   "metadata": {},
   "source": [
    "Looking at that box plot, we see that indeed our dataset is dominated by contributions from just a few people. Let's see what percentage of the total questions are asked by the top 10 askers:"
   ]
  },
  {
   "cell_type": "code",
   "execution_count": 49,
   "metadata": {},
   "outputs": [
    {
     "data": {
      "text/plain": [
       "0.25443330763299921"
      ]
     },
     "execution_count": 49,
     "metadata": {},
     "output_type": "execute_result"
    }
   ],
   "source": [
    "np.sum(questers.freq.head(10).values) / len(qs)"
   ]
  },
  {
   "cell_type": "markdown",
   "metadata": {},
   "source": [
    "That's over 25% of the questions which have been asked by just 10 people! This is likely to seriously bias our dataset, as these people are likely to ask questions on similar topics (e.g. Jamal tends to ask about psychology), making our dataset less representative of the general population. To tackle this, let's limit each person to the mean number of questions, rounded up (3). We'll select these randomly from their total questions, and run some analysis again a few times with different random selections to see if we get the same results. "
   ]
  },
  {
   "cell_type": "code",
   "execution_count": 95,
   "metadata": {},
   "outputs": [],
   "source": [
    "from random import sample\n",
    "qs_unbiased = pd.DataFrame(columns=qs.columns)\n",
    "for i, r in questers.iterrows():\n",
    "    rs = qs.loc[(qs.first_name == r.first_name) & (qs.last_name == r.last_name)]\n",
    "    if len(rs) > 3:\n",
    "        s = sample(range(len(rs)), 3)\n",
    "        rs = rs.iloc[s]\n",
    "    qs_unbiased = qs_unbiased.append(rs)"
   ]
  },
  {
   "cell_type": "code",
   "execution_count": 105,
   "metadata": {},
   "outputs": [
    {
     "data": {
      "text/html": [
       "<div>\n",
       "<style>\n",
       "    .dataframe thead tr:only-child th {\n",
       "        text-align: right;\n",
       "    }\n",
       "\n",
       "    .dataframe thead th {\n",
       "        text-align: left;\n",
       "    }\n",
       "\n",
       "    .dataframe tbody tr th {\n",
       "        vertical-align: top;\n",
       "    }\n",
       "</style>\n",
       "<table border=\"1\" class=\"dataframe\">\n",
       "  <thead>\n",
       "    <tr style=\"text-align: right;\">\n",
       "      <th></th>\n",
       "      <th>first_name</th>\n",
       "      <th>date</th>\n",
       "      <th>questions</th>\n",
       "      <th>output_type</th>\n",
       "      <th>Funny</th>\n",
       "      <th>human</th>\n",
       "      <th>Tags</th>\n",
       "      <th>genre</th>\n",
       "    </tr>\n",
       "  </thead>\n",
       "  <tbody>\n",
       "    <tr>\n",
       "      <th>275</th>\n",
       "      <td>Jamal</td>\n",
       "      <td>2015-10-20</td>\n",
       "      <td>\"Can we ever make a computer program that perp...</td>\n",
       "      <td>NaN</td>\n",
       "      <td>False</td>\n",
       "      <td>True</td>\n",
       "      <td>AI, computer science</td>\n",
       "      <td>None</td>\n",
       "    </tr>\n",
       "    <tr>\n",
       "      <th>278</th>\n",
       "      <td>Jamal</td>\n",
       "      <td>2015-10-21</td>\n",
       "      <td>\"To what extent should we treat people with me...</td>\n",
       "      <td>NaN</td>\n",
       "      <td>False</td>\n",
       "      <td>True</td>\n",
       "      <td>health, ethics, psychology</td>\n",
       "      <td>None</td>\n",
       "    </tr>\n",
       "    <tr>\n",
       "      <th>347</th>\n",
       "      <td>Jamal</td>\n",
       "      <td>2015-11-08</td>\n",
       "      <td>\"Will it ever be possible to gain infinite sta...</td>\n",
       "      <td>NaN</td>\n",
       "      <td>False</td>\n",
       "      <td>True</td>\n",
       "      <td>biology, health, medicine</td>\n",
       "      <td>None</td>\n",
       "    </tr>\n",
       "    <tr>\n",
       "      <th>708</th>\n",
       "      <td>Matt</td>\n",
       "      <td>2016-04-10</td>\n",
       "      <td>\"How big have pre-historic bees ever got?\"</td>\n",
       "      <td>NaN</td>\n",
       "      <td>False</td>\n",
       "      <td>False</td>\n",
       "      <td>biology, ecology</td>\n",
       "      <td>biology</td>\n",
       "    </tr>\n",
       "    <tr>\n",
       "      <th>706</th>\n",
       "      <td>Matt</td>\n",
       "      <td>2016-04-10</td>\n",
       "      <td>\"Just how important are bees compared to other...</td>\n",
       "      <td>NaN</td>\n",
       "      <td>False</td>\n",
       "      <td>False</td>\n",
       "      <td>biology, ecology</td>\n",
       "      <td>biology</td>\n",
       "    </tr>\n",
       "    <tr>\n",
       "      <th>959</th>\n",
       "      <td>Matt</td>\n",
       "      <td>2016-08-27</td>\n",
       "      <td>\"How much does the body heat up due to physica...</td>\n",
       "      <td>NaN</td>\n",
       "      <td>False</td>\n",
       "      <td>True</td>\n",
       "      <td>biology, anatomy</td>\n",
       "      <td>None</td>\n",
       "    </tr>\n",
       "    <tr>\n",
       "      <th>1054</th>\n",
       "      <td>Sean</td>\n",
       "      <td>2017-02-22</td>\n",
       "      <td>\"What's the best drug?\"</td>\n",
       "      <td>NaN</td>\n",
       "      <td>False</td>\n",
       "      <td>True</td>\n",
       "      <td>medicine, biology, health</td>\n",
       "      <td>biology</td>\n",
       "    </tr>\n",
       "    <tr>\n",
       "      <th>750</th>\n",
       "      <td>Sean</td>\n",
       "      <td>2016-04-10</td>\n",
       "      <td>\"What if I raised 20 babies in a completely wh...</td>\n",
       "      <td>NaN</td>\n",
       "      <td>False</td>\n",
       "      <td>True</td>\n",
       "      <td>psychology</td>\n",
       "      <td>None</td>\n",
       "    </tr>\n",
       "    <tr>\n",
       "      <th>900</th>\n",
       "      <td>Sean</td>\n",
       "      <td>2016-07-26</td>\n",
       "      <td>\"Are there Lesser Danes? Do they feel bad abou...</td>\n",
       "      <td>NaN</td>\n",
       "      <td>True</td>\n",
       "      <td>False</td>\n",
       "      <td>ecology, psychology</td>\n",
       "      <td>None</td>\n",
       "    </tr>\n",
       "    <tr>\n",
       "      <th>497</th>\n",
       "      <td>Olly</td>\n",
       "      <td>2016-01-04</td>\n",
       "      <td>\"How does modern lego affect post-war preconst...</td>\n",
       "      <td>NaN</td>\n",
       "      <td>True</td>\n",
       "      <td>True</td>\n",
       "      <td>engineering, technology</td>\n",
       "      <td>None</td>\n",
       "    </tr>\n",
       "  </tbody>\n",
       "</table>\n",
       "</div>"
      ],
      "text/plain": [
       "     first_name       date                                          questions  \\\n",
       "275       Jamal 2015-10-20  \"Can we ever make a computer program that perp...   \n",
       "278       Jamal 2015-10-21  \"To what extent should we treat people with me...   \n",
       "347       Jamal 2015-11-08  \"Will it ever be possible to gain infinite sta...   \n",
       "708        Matt 2016-04-10         \"How big have pre-historic bees ever got?\"   \n",
       "706        Matt 2016-04-10  \"Just how important are bees compared to other...   \n",
       "959        Matt 2016-08-27  \"How much does the body heat up due to physica...   \n",
       "1054       Sean 2017-02-22                            \"What's the best drug?\"   \n",
       "750        Sean 2016-04-10  \"What if I raised 20 babies in a completely wh...   \n",
       "900        Sean 2016-07-26  \"Are there Lesser Danes? Do they feel bad abou...   \n",
       "497        Olly 2016-01-04  \"How does modern lego affect post-war preconst...   \n",
       "\n",
       "     output_type  Funny  human                         Tags    genre  \n",
       "275          NaN  False   True        AI, computer science      None  \n",
       "278          NaN  False   True  health, ethics, psychology      None  \n",
       "347          NaN  False   True   biology, health, medicine      None  \n",
       "708          NaN  False  False            biology, ecology   biology  \n",
       "706          NaN  False  False            biology, ecology   biology  \n",
       "959          NaN  False   True            biology, anatomy      None  \n",
       "1054         NaN  False   True    medicine, biology, health  biology  \n",
       "750          NaN  False   True                  psychology      None  \n",
       "900          NaN   True  False         ecology, psychology      None  \n",
       "497          NaN   True   True     engineering, technology      None  "
      ]
     },
     "execution_count": 105,
     "metadata": {},
     "output_type": "execute_result"
    }
   ],
   "source": [
    "qs_unbiased.drop(['last_name', 'comments', 'who'], axis=1).head(10)"
   ]
  },
  {
   "cell_type": "code",
   "execution_count": 97,
   "metadata": {},
   "outputs": [
    {
     "data": {
      "text/plain": [
       "479"
      ]
     },
     "execution_count": 97,
     "metadata": {},
     "output_type": "execute_result"
    }
   ],
   "source": [
    "len(qs_unbiased)"
   ]
  },
  {
   "cell_type": "code",
   "execution_count": 111,
   "metadata": {},
   "outputs": [
    {
     "name": "stdout",
     "output_type": "stream",
     "text": [
      "0.020876826722338204 0.2776617954070981 0.12108559498956159 0.06889352818371608\n"
     ]
    }
   ],
   "source": [
    "tags_u = tag_me(qs_unbiased)"
   ]
  },
  {
   "cell_type": "code",
   "execution_count": 112,
   "metadata": {},
   "outputs": [
    {
     "data": {
      "text/html": [
       "<div>\n",
       "<style>\n",
       "    .dataframe thead tr:only-child th {\n",
       "        text-align: right;\n",
       "    }\n",
       "\n",
       "    .dataframe thead th {\n",
       "        text-align: left;\n",
       "    }\n",
       "\n",
       "    .dataframe tbody tr th {\n",
       "        vertical-align: top;\n",
       "    }\n",
       "</style>\n",
       "<table border=\"1\" class=\"dataframe\">\n",
       "  <thead>\n",
       "    <tr style=\"text-align: right;\">\n",
       "      <th></th>\n",
       "      <th>freq</th>\n",
       "      <th>funny</th>\n",
       "      <th>human</th>\n",
       "    </tr>\n",
       "  </thead>\n",
       "  <tbody>\n",
       "    <tr>\n",
       "      <th>biology</th>\n",
       "      <td>164</td>\n",
       "      <td>0.317073</td>\n",
       "      <td>0.780488</td>\n",
       "    </tr>\n",
       "    <tr>\n",
       "      <th>psychology</th>\n",
       "      <td>133</td>\n",
       "      <td>0.142857</td>\n",
       "      <td>0.932331</td>\n",
       "    </tr>\n",
       "    <tr>\n",
       "      <th>physics</th>\n",
       "      <td>97</td>\n",
       "      <td>0.329897</td>\n",
       "      <td>0.463918</td>\n",
       "    </tr>\n",
       "    <tr>\n",
       "      <th>technology</th>\n",
       "      <td>78</td>\n",
       "      <td>0.24359</td>\n",
       "      <td>0.935897</td>\n",
       "    </tr>\n",
       "    <tr>\n",
       "      <th>health</th>\n",
       "      <td>58</td>\n",
       "      <td>0.0862069</td>\n",
       "      <td>1</td>\n",
       "    </tr>\n",
       "    <tr>\n",
       "      <th>ecology</th>\n",
       "      <td>41</td>\n",
       "      <td>0.463415</td>\n",
       "      <td>0.292683</td>\n",
       "    </tr>\n",
       "    <tr>\n",
       "      <th>space</th>\n",
       "      <td>37</td>\n",
       "      <td>0.189189</td>\n",
       "      <td>0.540541</td>\n",
       "    </tr>\n",
       "    <tr>\n",
       "      <th>food</th>\n",
       "      <td>33</td>\n",
       "      <td>0.272727</td>\n",
       "      <td>0.878788</td>\n",
       "    </tr>\n",
       "    <tr>\n",
       "      <th>engineering</th>\n",
       "      <td>30</td>\n",
       "      <td>0.266667</td>\n",
       "      <td>0.733333</td>\n",
       "    </tr>\n",
       "    <tr>\n",
       "      <th>medicine</th>\n",
       "      <td>30</td>\n",
       "      <td>0.166667</td>\n",
       "      <td>0.933333</td>\n",
       "    </tr>\n",
       "  </tbody>\n",
       "</table>\n",
       "</div>"
      ],
      "text/plain": [
       "            freq      funny     human\n",
       "biology      164   0.317073  0.780488\n",
       "psychology   133   0.142857  0.932331\n",
       "physics       97   0.329897  0.463918\n",
       "technology    78    0.24359  0.935897\n",
       "health        58  0.0862069         1\n",
       "ecology       41   0.463415  0.292683\n",
       "space         37   0.189189  0.540541\n",
       "food          33   0.272727  0.878788\n",
       "engineering   30   0.266667  0.733333\n",
       "medicine      30   0.166667  0.933333"
      ]
     },
     "execution_count": 112,
     "metadata": {},
     "output_type": "execute_result"
    }
   ],
   "source": [
    "tags_u.head(10)"
   ]
  },
  {
   "cell_type": "code",
   "execution_count": 113,
   "metadata": {},
   "outputs": [
    {
     "data": {
      "text/html": [
       "<div>\n",
       "<style>\n",
       "    .dataframe thead tr:only-child th {\n",
       "        text-align: right;\n",
       "    }\n",
       "\n",
       "    .dataframe thead th {\n",
       "        text-align: left;\n",
       "    }\n",
       "\n",
       "    .dataframe tbody tr th {\n",
       "        vertical-align: top;\n",
       "    }\n",
       "</style>\n",
       "<table border=\"1\" class=\"dataframe\">\n",
       "  <thead>\n",
       "    <tr style=\"text-align: right;\">\n",
       "      <th></th>\n",
       "      <th>freq</th>\n",
       "      <th>funny</th>\n",
       "      <th>human</th>\n",
       "    </tr>\n",
       "  </thead>\n",
       "  <tbody>\n",
       "    <tr>\n",
       "      <th>biology</th>\n",
       "      <td>447</td>\n",
       "      <td>0.270694</td>\n",
       "      <td>0.778523</td>\n",
       "    </tr>\n",
       "    <tr>\n",
       "      <th>psychology</th>\n",
       "      <td>366</td>\n",
       "      <td>0.155738</td>\n",
       "      <td>0.937158</td>\n",
       "    </tr>\n",
       "    <tr>\n",
       "      <th>physics</th>\n",
       "      <td>239</td>\n",
       "      <td>0.284519</td>\n",
       "      <td>0.401674</td>\n",
       "    </tr>\n",
       "    <tr>\n",
       "      <th>technology</th>\n",
       "      <td>197</td>\n",
       "      <td>0.228426</td>\n",
       "      <td>0.913706</td>\n",
       "    </tr>\n",
       "    <tr>\n",
       "      <th>health</th>\n",
       "      <td>154</td>\n",
       "      <td>0.0909091</td>\n",
       "      <td>0.993506</td>\n",
       "    </tr>\n",
       "    <tr>\n",
       "      <th>ecology</th>\n",
       "      <td>104</td>\n",
       "      <td>0.432692</td>\n",
       "      <td>0.346154</td>\n",
       "    </tr>\n",
       "    <tr>\n",
       "      <th>food</th>\n",
       "      <td>100</td>\n",
       "      <td>0.29</td>\n",
       "      <td>0.9</td>\n",
       "    </tr>\n",
       "    <tr>\n",
       "      <th>space</th>\n",
       "      <td>91</td>\n",
       "      <td>0.175824</td>\n",
       "      <td>0.428571</td>\n",
       "    </tr>\n",
       "    <tr>\n",
       "      <th>neuroscience</th>\n",
       "      <td>84</td>\n",
       "      <td>0.0952381</td>\n",
       "      <td>0.988095</td>\n",
       "    </tr>\n",
       "    <tr>\n",
       "      <th>philosophy</th>\n",
       "      <td>83</td>\n",
       "      <td>0.39759</td>\n",
       "      <td>0.843373</td>\n",
       "    </tr>\n",
       "  </tbody>\n",
       "</table>\n",
       "</div>"
      ],
      "text/plain": [
       "             freq      funny     human\n",
       "biology       447   0.270694  0.778523\n",
       "psychology    366   0.155738  0.937158\n",
       "physics       239   0.284519  0.401674\n",
       "technology    197   0.228426  0.913706\n",
       "health        154  0.0909091  0.993506\n",
       "ecology       104   0.432692  0.346154\n",
       "food          100       0.29       0.9\n",
       "space          91   0.175824  0.428571\n",
       "neuroscience   84  0.0952381  0.988095\n",
       "philosophy     83    0.39759  0.843373"
      ]
     },
     "execution_count": 113,
     "metadata": {},
     "output_type": "execute_result"
    }
   ],
   "source": [
    "tags.head(10)"
   ]
  },
  {
   "cell_type": "code",
   "execution_count": 114,
   "metadata": {},
   "outputs": [
    {
     "data": {
      "text/plain": [
       "array([0.34237995824634654, 0.2776617954070981, 0.20250521920668058,\n",
       "       0.162839248434238, 0.12108559498956159, 0.08559498956158663,\n",
       "       0.07724425887265135, 0.06889352818371608, 0.06263048016701461,\n",
       "       0.06263048016701461], dtype=object)"
      ]
     },
     "execution_count": 114,
     "metadata": {},
     "output_type": "execute_result"
    }
   ],
   "source": [
    "tags_u.freq.head(10).values / len(qs_unbiased)"
   ]
  },
  {
   "cell_type": "code",
   "execution_count": 115,
   "metadata": {},
   "outputs": [
    {
     "data": {
      "text/plain": [
       "array([0.3446414803392444, 0.28218966846569005, 0.18427139552814187,\n",
       "       0.15188897455666925, 0.11873554356206631, 0.08018504240555127,\n",
       "       0.07710100231303008, 0.07016191210485737, 0.06476484194294525,\n",
       "       0.06399383191981496], dtype=object)"
      ]
     },
     "execution_count": 115,
     "metadata": {},
     "output_type": "execute_result"
    }
   ],
   "source": [
    "tags.freq.head(10).values / len(qs)"
   ]
  },
  {
   "cell_type": "markdown",
   "metadata": {},
   "source": [
    "This is actually pretty encouraging: the top 10 most popular tags are more or less the same, as are the percentages with which they occur and their funnyness / humanity. This suggests that although our dataset may be dominated by the contributions from a relatively small number of people, their contributions are largely representative of the total population and do not appear to bias the results significantly. We can therefore continue our analysis with the complete dataset. "
   ]
  },
  {
   "cell_type": "code",
   "execution_count": null,
   "metadata": {
    "collapsed": true
   },
   "outputs": [],
   "source": []
  }
 ],
 "metadata": {
  "kernelspec": {
   "display_name": "Python 3",
   "language": "python",
   "name": "python3"
  },
  "language_info": {
   "codemirror_mode": {
    "name": "ipython",
    "version": 3
   },
   "file_extension": ".py",
   "mimetype": "text/x-python",
   "name": "python",
   "nbconvert_exporter": "python",
   "pygments_lexer": "ipython3",
   "version": "3.6.1"
  }
 },
 "nbformat": 4,
 "nbformat_minor": 2
}
