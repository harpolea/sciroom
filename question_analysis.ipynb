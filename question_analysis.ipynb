{
 "cells": [
  {
   "cell_type": "code",
   "execution_count": 1,
   "metadata": {
    "collapsed": true
   },
   "outputs": [],
   "source": [
    "import numpy as np\n",
    "import matplotlib.pyplot as plt\n",
    "import pandas as pd"
   ]
  },
  {
   "cell_type": "code",
   "execution_count": 34,
   "metadata": {},
   "outputs": [],
   "source": [
    "def dateparse(x):\n",
    "    if x == 'Pilot':\n",
    "        x = '14/06/2017'\n",
    "    return pd.datetime.strptime(x, '%d/%m/%Y')\n",
    "#dateparse = lambda x: pd.datetime.strptime(x, '%d/%m/%Y')\n",
    "\n",
    "qs = pd.read_csv('sciroom_qs.csv', skiprows=2, parse_dates=['When?'], date_parser=dateparse)"
   ]
  },
  {
   "cell_type": "code",
   "execution_count": 35,
   "metadata": {},
   "outputs": [],
   "source": [
    "qs.rename(columns={'When?':'date', 'Will this be a potential talk, blog post, or nothing? ':'output_type', \n",
    "                   'Who?':'who', 'Other comments':'comments'}, inplace=True)"
   ]
  },
  {
   "cell_type": "code",
   "execution_count": 36,
   "metadata": {},
   "outputs": [
    {
     "data": {
      "text/html": [
       "<div>\n",
       "<style>\n",
       "    .dataframe thead tr:only-child th {\n",
       "        text-align: right;\n",
       "    }\n",
       "\n",
       "    .dataframe thead th {\n",
       "        text-align: left;\n",
       "    }\n",
       "\n",
       "    .dataframe tbody tr th {\n",
       "        vertical-align: top;\n",
       "    }\n",
       "</style>\n",
       "<table border=\"1\" class=\"dataframe\">\n",
       "  <thead>\n",
       "    <tr style=\"text-align: right;\">\n",
       "      <th></th>\n",
       "      <th>Name</th>\n",
       "      <th>date</th>\n",
       "      <th>Questions</th>\n",
       "      <th>output_type</th>\n",
       "      <th>comments</th>\n",
       "      <th>who</th>\n",
       "    </tr>\n",
       "  </thead>\n",
       "  <tbody>\n",
       "    <tr>\n",
       "      <th>0</th>\n",
       "      <td>Przemek Ociepa</td>\n",
       "      <td>2017-06-14</td>\n",
       "      <td>\"Could machines be conscious?\"</td>\n",
       "      <td>Event</td>\n",
       "      <td>Made into event 1! But what about content?</td>\n",
       "      <td>Jamal</td>\n",
       "    </tr>\n",
       "    <tr>\n",
       "      <th>1</th>\n",
       "      <td>Przemek Ociepa</td>\n",
       "      <td>2017-06-14</td>\n",
       "      <td>\"Are we approaching to an ecological collapse?\"</td>\n",
       "      <td>Event</td>\n",
       "      <td>Loss of diversity. E.g. mass extinction</td>\n",
       "      <td>Neil</td>\n",
       "    </tr>\n",
       "    <tr>\n",
       "      <th>2</th>\n",
       "      <td>Philip Wiles</td>\n",
       "      <td>2017-06-14</td>\n",
       "      <td>\"Are we losing the war on disease?\"</td>\n",
       "      <td>Event</td>\n",
       "      <td>Disease - illness' Medical student or (at wors...</td>\n",
       "      <td>NaN</td>\n",
       "    </tr>\n",
       "    <tr>\n",
       "      <th>3</th>\n",
       "      <td>Philip Wiles</td>\n",
       "      <td>2017-06-14</td>\n",
       "      <td>\"Is the nature of reality dependent on our obs...</td>\n",
       "      <td>Content: Read</td>\n",
       "      <td>Peter. At Some Point.</td>\n",
       "      <td>Peter</td>\n",
       "    </tr>\n",
       "    <tr>\n",
       "      <th>4</th>\n",
       "      <td>Tim Wiles</td>\n",
       "      <td>2017-06-14</td>\n",
       "      <td>\"What inventions would we not have without the...</td>\n",
       "      <td>Event / Content</td>\n",
       "      <td>Hard to make it discussiony/involving. space -...</td>\n",
       "      <td>NaN</td>\n",
       "    </tr>\n",
       "  </tbody>\n",
       "</table>\n",
       "</div>"
      ],
      "text/plain": [
       "             Name       date  \\\n",
       "0  Przemek Ociepa 2017-06-14   \n",
       "1  Przemek Ociepa 2017-06-14   \n",
       "2    Philip Wiles 2017-06-14   \n",
       "3    Philip Wiles 2017-06-14   \n",
       "4       Tim Wiles 2017-06-14   \n",
       "\n",
       "                                           Questions      output_type  \\\n",
       "0                     \"Could machines be conscious?\"            Event   \n",
       "1    \"Are we approaching to an ecological collapse?\"            Event   \n",
       "2                \"Are we losing the war on disease?\"            Event   \n",
       "3  \"Is the nature of reality dependent on our obs...    Content: Read   \n",
       "4  \"What inventions would we not have without the...  Event / Content   \n",
       "\n",
       "                                            comments    who  \n",
       "0         Made into event 1! But what about content?  Jamal  \n",
       "1            Loss of diversity. E.g. mass extinction   Neil  \n",
       "2  Disease - illness' Medical student or (at wors...    NaN  \n",
       "3                              Peter. At Some Point.  Peter  \n",
       "4  Hard to make it discussiony/involving. space -...    NaN  "
      ]
     },
     "execution_count": 36,
     "metadata": {},
     "output_type": "execute_result"
    }
   ],
   "source": [
    "#qs[\"date\"] = qs[\"date\"].astype(\"datetime64\")\n",
    "qs.head()"
   ]
  },
  {
   "cell_type": "code",
   "execution_count": 45,
   "metadata": {},
   "outputs": [
    {
     "data": {
      "image/png": "[encoded data removed]",
      "text/plain": [
       "<matplotlib.figure.Figure at 0x7fcb59b79588>"
      ]
     },
     "metadata": {},
     "output_type": "display_data"
    }
   ],
   "source": [
    "fig = qs[['date']].groupby([qs[\"date\"].dt.year, qs[\"date\"].dt.month]).count().plot(kind=\"bar\", legend=False)\n",
    "fig.set_xlabel('Date')\n",
    "fig.set_ylabel('Number of questions')\n",
    "plt.show()"
   ]
  },
  {
   "cell_type": "code",
   "execution_count": 46,
   "metadata": {
    "collapsed": true
   },
   "outputs": [],
   "source": [
    "biology_words = [\"ecological\", \"disease\", \"nature\", \"plants\", \"animals\"]\n",
    "physics_words = [\"space\", \"black holes\", \"star\"]\n",
    "chemistry_words = [\"chemicals\"]"
   ]
  },
  {
   "cell_type": "code",
   "execution_count": null,
   "metadata": {
    "collapsed": true
   },
   "outputs": [],
   "source": []
  }
 ],
 "metadata": {
  "kernelspec": {
   "display_name": "Python 3",
   "language": "python",
   "name": "python3"
  },
  "language_info": {
   "codemirror_mode": {
    "name": "ipython",
    "version": 3
   },
   "file_extension": ".py",
   "mimetype": "text/x-python",
   "name": "python",
   "nbconvert_exporter": "python",
   "pygments_lexer": "ipython3",
   "version": "3.6.1"
  }
 },
 "nbformat": 4,
 "nbformat_minor": 2
}
